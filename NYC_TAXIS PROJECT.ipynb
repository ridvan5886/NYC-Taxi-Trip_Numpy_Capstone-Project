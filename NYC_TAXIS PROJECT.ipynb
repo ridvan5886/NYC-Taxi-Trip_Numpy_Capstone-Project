{
 "cells": [
  {
   "cell_type": "markdown",
   "id": "fd5290c5",
   "metadata": {},
   "source": [
    "# Analysing NYC Taxi Trip Dataset Using Numpy"
   ]
  },
  {
   "cell_type": "markdown",
   "id": "2fb6bb5a",
   "metadata": {},
   "source": [
    "There are a variety of approaches for plotting large datasets, but most of them are very unsatisfactory. Here we first show some of the issues, then demonstrate how the datashader library helps make large datasets truly practical.\n",
    "\n",
    "I'll use part of the well-studied NYC Taxi trip database, with the locations of all NYC taxi pickups and dropoffs from the year of 2016. Although we know what the data is, let's approach it as if we are doing data mining, and see what it takes to understand the dataset from scratch."
   ]
  },
  {
   "cell_type": "code",
   "execution_count": 4,
   "id": "ae1f593c",
   "metadata": {},
   "outputs": [],
   "source": [
    "import numpy as np\n",
    "my_data=np.genfromtxt(\"C:\\\\Users\\\\ridva\\OneDrive\\\\Masaüstü\\\\Notes\\\\B47-DS-TR-main\\\\14-Office Hours document\\\\Office Hours 3-Numpy\\\\nyc_taxis1.csv\",delimiter=',',skip_header=True,dtype='int32')"
   ]
  },
  {
   "cell_type": "code",
   "execution_count": 5,
   "id": "a1161033",
   "metadata": {},
   "outputs": [
    {
     "data": {
      "text/plain": [
       "'1.20.1'"
      ]
     },
     "execution_count": 5,
     "metadata": {},
     "output_type": "execute_result"
    }
   ],
   "source": [
    "np.__version__"
   ]
  },
  {
   "cell_type": "code",
   "execution_count": 6,
   "id": "2e27c230",
   "metadata": {},
   "outputs": [
    {
     "data": {
      "text/plain": [
       "array([[2016,    1,    1, ...,   11,   69,    1],\n",
       "       [2016,    1,    1, ...,    8,   54,    1],\n",
       "       [2016,    1,    1, ...,    0,   37,    2],\n",
       "       ...,\n",
       "       [2016,    6,   30, ...,    5,   63,    1],\n",
       "       [2016,    6,   30, ...,    8,   44,    1],\n",
       "       [2016,    6,   30, ...,    0,   54,    2]])"
      ]
     },
     "execution_count": 6,
     "metadata": {},
     "output_type": "execute_result"
    }
   ],
   "source": [
    "my_data"
   ]
  },
  {
   "cell_type": "code",
   "execution_count": 7,
   "id": "18fd5c7c",
   "metadata": {},
   "outputs": [
    {
     "data": {
      "text/plain": [
       "2"
      ]
     },
     "execution_count": 7,
     "metadata": {},
     "output_type": "execute_result"
    }
   ],
   "source": [
    "my_data.ndim"
   ]
  },
  {
   "cell_type": "code",
   "execution_count": 8,
   "id": "746a52b3",
   "metadata": {},
   "outputs": [
    {
     "data": {
      "text/plain": [
       "(89560, 15)"
      ]
     },
     "execution_count": 8,
     "metadata": {},
     "output_type": "execute_result"
    }
   ],
   "source": [
    "my_data.shape"
   ]
  },
  {
   "cell_type": "code",
   "execution_count": 9,
   "id": "36aa4f35",
   "metadata": {},
   "outputs": [
    {
     "data": {
      "text/plain": [
       "1343400"
      ]
     },
     "execution_count": 9,
     "metadata": {},
     "output_type": "execute_result"
    }
   ],
   "source": [
    "my_data.size"
   ]
  },
  {
   "cell_type": "code",
   "execution_count": 10,
   "id": "ebe63d97",
   "metadata": {},
   "outputs": [
    {
     "data": {
      "text/plain": [
       "dtype('int32')"
      ]
     },
     "execution_count": 10,
     "metadata": {},
     "output_type": "execute_result"
    }
   ],
   "source": [
    "my_data.dtype"
   ]
  },
  {
   "cell_type": "code",
   "execution_count": 11,
   "id": "57bc77bd",
   "metadata": {},
   "outputs": [
    {
     "data": {
      "text/plain": [
       "array([[2016,    1,    1, ...,   11,   69,    1],\n",
       "       [2016,    1,    1, ...,    8,   54,    1],\n",
       "       [2016,    1,    1, ...,    0,   37,    2],\n",
       "       ...,\n",
       "       [2016,    6,   30, ...,    5,   63,    1],\n",
       "       [2016,    6,   30, ...,    8,   44,    1],\n",
       "       [2016,    6,   30, ...,    0,   54,    2]], dtype=int64)"
      ]
     },
     "execution_count": 11,
     "metadata": {},
     "output_type": "execute_result"
    }
   ],
   "source": [
    "my_data.astype('int64')"
   ]
  },
  {
   "cell_type": "code",
   "execution_count": 12,
   "id": "13be1ddb",
   "metadata": {},
   "outputs": [
    {
     "data": {
      "text/plain": [
       "4"
      ]
     },
     "execution_count": 12,
     "metadata": {},
     "output_type": "execute_result"
    }
   ],
   "source": [
    "my_data.itemsize"
   ]
  },
  {
   "cell_type": "code",
   "execution_count": 13,
   "id": "c4d267a1",
   "metadata": {},
   "outputs": [
    {
     "data": {
      "text/plain": [
       "5373600"
      ]
     },
     "execution_count": 13,
     "metadata": {},
     "output_type": "execute_result"
    }
   ],
   "source": [
    "my_data.nbytes"
   ]
  },
  {
   "cell_type": "code",
   "execution_count": 14,
   "id": "f285ac3a",
   "metadata": {},
   "outputs": [
    {
     "data": {
      "text/plain": [
       "<memory at 0x00000161DDB706C0>"
      ]
     },
     "execution_count": 14,
     "metadata": {},
     "output_type": "execute_result"
    }
   ],
   "source": [
    "my_data.data"
   ]
  },
  {
   "cell_type": "code",
   "execution_count": 15,
   "id": "ab132ce9",
   "metadata": {},
   "outputs": [
    {
     "data": {
      "text/plain": [
       "array([[False, False, False, ..., False, False, False],\n",
       "       [False, False, False, ..., False, False, False],\n",
       "       [False, False, False, ..., False, False, False],\n",
       "       ...,\n",
       "       [False, False, False, ..., False, False, False],\n",
       "       [False, False, False, ..., False, False, False],\n",
       "       [False, False, False, ..., False, False, False]])"
      ]
     },
     "execution_count": 15,
     "metadata": {},
     "output_type": "execute_result"
    }
   ],
   "source": [
    "np.isnan(my_data)"
   ]
  },
  {
   "cell_type": "markdown",
   "id": "969399e6",
   "metadata": {},
   "source": [
    "# ... Mean speed of all rides"
   ]
  },
  {
   "cell_type": "code",
   "execution_count": 16,
   "id": "f9676d0f",
   "metadata": {},
   "outputs": [
    {
     "data": {
      "text/plain": [
       "array([    0.,     0.,     0., ..., 30600., 68400., 82800.])"
      ]
     },
     "execution_count": 16,
     "metadata": {},
     "output_type": "execute_result"
    }
   ],
   "source": [
    "speed=my_data[:,7]/(my_data[:,8]/3600)\n",
    "np.sort(speed)"
   ]
  },
  {
   "cell_type": "code",
   "execution_count": 17,
   "id": "9cd5b61b",
   "metadata": {},
   "outputs": [
    {
     "name": "stdout",
     "output_type": "stream",
     "text": [
      "30.664805016170458\n"
     ]
    }
   ],
   "source": [
    "print(speed.mean())"
   ]
  },
  {
   "cell_type": "code",
   "execution_count": 18,
   "id": "0e62fc6a",
   "metadata": {},
   "outputs": [
    {
     "name": "stdout",
     "output_type": "stream",
     "text": [
      "82800.0\n"
     ]
    }
   ],
   "source": [
    "print(speed.max())"
   ]
  },
  {
   "cell_type": "markdown",
   "id": "f4f3cea0",
   "metadata": {},
   "source": [
    "# ... Number of rides taken in February"
   ]
  },
  {
   "cell_type": "code",
   "execution_count": 19,
   "id": "65f01802",
   "metadata": {},
   "outputs": [
    {
     "name": "stdout",
     "output_type": "stream",
     "text": [
      "13333\n"
     ]
    }
   ],
   "source": [
    "rides_feb=my_data[my_data[:,1] ==2,1]\n",
    "print(rides_feb.shape[0])"
   ]
  },
  {
   "cell_type": "markdown",
   "id": "495d3696",
   "metadata": {},
   "source": [
    "# ... Number of rides where tip more than 50$"
   ]
  },
  {
   "cell_type": "code",
   "execution_count": 20,
   "id": "42626b5d",
   "metadata": {},
   "outputs": [
    {
     "name": "stdout",
     "output_type": "stream",
     "text": [
      "[ 52  60  59  80  70  60  55  65  80  62 100  58  62  75  60  70]\n"
     ]
    }
   ],
   "source": [
    "print(my_data[my_data[:,12]>50,12])"
   ]
  },
  {
   "cell_type": "code",
   "execution_count": 21,
   "id": "1ef8ed47",
   "metadata": {},
   "outputs": [
    {
     "name": "stdout",
     "output_type": "stream",
     "text": [
      "16\n"
     ]
    }
   ],
   "source": [
    "print(my_data[my_data[:,12]>50,12].shape[0])"
   ]
  },
  {
   "cell_type": "code",
   "execution_count": 22,
   "id": "e3619853",
   "metadata": {},
   "outputs": [
    {
     "data": {
      "text/plain": [
       "1068"
      ]
     },
     "execution_count": 22,
     "metadata": {},
     "output_type": "execute_result"
    }
   ],
   "source": [
    "a=my_data[my_data[:,12]>50,12]\n",
    "np.sum(a)"
   ]
  },
  {
   "cell_type": "markdown",
   "id": "d4bc5496",
   "metadata": {},
   "source": [
    "# ... Number of rides where drop was JFK(6) airpot"
   ]
  },
  {
   "cell_type": "code",
   "execution_count": 24,
   "id": "63c25b1d",
   "metadata": {},
   "outputs": [
    {
     "name": "stdout",
     "output_type": "stream",
     "text": [
      "9000\n",
      "[[2016    2    1 ...    0    3    6]\n",
      " [2016    2    1 ...    0    2    6]\n",
      " [2016    2    1 ...    0    3    6]\n",
      " ...\n",
      " [2016    2   29 ...    5    3    6]\n",
      " [2016    2   29 ...    5    3    6]\n",
      " [2016    2   29 ...    5    3    6]]\n"
     ]
    },
    {
     "data": {
      "text/plain": [
       "1361"
      ]
     },
     "execution_count": 24,
     "metadata": {},
     "output_type": "execute_result"
    }
   ],
   "source": [
    "print(my_data[my_data[:,6] == 6,6].shape[0])\n",
    "a=np.all([my_data[:,6] == 6 , my_data[:,1] == 2],axis=0)\n",
    "print(my_data[a,0:7])\n",
    "my_data[a,0:7].shape[0]"
   ]
  },
  {
   "cell_type": "markdown",
   "id": "53ad9d71",
   "metadata": {},
   "source": [
    "# ... trip_lengths in February"
   ]
  },
  {
   "cell_type": "code",
   "execution_count": 28,
   "id": "98235cc2",
   "metadata": {},
   "outputs": [
    {
     "name": "stdout",
     "output_type": "stream",
     "text": [
      "[1214  676 1175 ...  111  995  932] 27206595 27206595 13333\n"
     ]
    }
   ],
   "source": [
    "a=my_data[my_data[:,1] ==2,8]\n",
    "print(a,a.sum(),sum(a), a.shape[0])"
   ]
  },
  {
   "cell_type": "markdown",
   "id": "021fe81e",
   "metadata": {},
   "source": [
    "# delete"
   ]
  },
  {
   "cell_type": "code",
   "execution_count": 26,
   "id": "228b6a5d",
   "metadata": {},
   "outputs": [
    {
     "data": {
      "text/plain": [
       "array([[ 1,  1,  5, ..., 11, 69,  1],\n",
       "       [ 1,  1,  5, ...,  8, 54,  1],\n",
       "       [ 1,  1,  5, ...,  0, 37,  2],\n",
       "       ...,\n",
       "       [ 6, 30,  4, ...,  5, 63,  1],\n",
       "       [ 6, 30,  4, ...,  8, 44,  1],\n",
       "       [ 6, 30,  4, ...,  0, 54,  2]])"
      ]
     },
     "execution_count": 26,
     "metadata": {},
     "output_type": "execute_result"
    }
   ],
   "source": [
    "my_data1=np.delete(my_data,0,axis=1,)\n",
    "my_data1"
   ]
  },
  {
   "cell_type": "code",
   "execution_count": 27,
   "id": "349cb165",
   "metadata": {},
   "outputs": [
    {
     "data": {
      "text/plain": [
       "(89560, 14)"
      ]
     },
     "execution_count": 27,
     "metadata": {},
     "output_type": "execute_result"
    }
   ],
   "source": [
    "my_data1.shape"
   ]
  },
  {
   "cell_type": "markdown",
   "id": "65c3e240",
   "metadata": {},
   "source": [
    "# Back Delete"
   ]
  },
  {
   "cell_type": "code",
   "execution_count": 29,
   "id": "c5b5ebe2",
   "metadata": {},
   "outputs": [],
   "source": [
    "my_data2=np.insert(my_data1,0,[2016]*89560,axis=1)"
   ]
  },
  {
   "cell_type": "code",
   "execution_count": 30,
   "id": "542176e5",
   "metadata": {},
   "outputs": [
    {
     "data": {
      "text/plain": [
       "(89560, 15)"
      ]
     },
     "execution_count": 30,
     "metadata": {},
     "output_type": "execute_result"
    }
   ],
   "source": [
    "my_data2.shape"
   ]
  },
  {
   "cell_type": "markdown",
   "id": "a2065d0d",
   "metadata": {},
   "source": [
    "# Sum of Columns"
   ]
  },
  {
   "cell_type": "code",
   "execution_count": 31,
   "id": "c0ad9029",
   "metadata": {},
   "outputs": [
    {
     "data": {
      "text/plain": [
       "array([180552960,    323712,   1405513,    344030,    276084,    265087,\n",
       "          302645,   1092372, 200254468,   3423875,     47311,    286609,\n",
       "          495798,   4339989,    115572])"
      ]
     },
     "execution_count": 31,
     "metadata": {},
     "output_type": "execute_result"
    }
   ],
   "source": [
    "my_data.sum(axis=0)"
   ]
  },
  {
   "cell_type": "markdown",
   "id": "cc819069",
   "metadata": {},
   "source": [
    "# .... Find Total_amount for each month"
   ]
  },
  {
   "cell_type": "code",
   "execution_count": 32,
   "id": "370d7673",
   "metadata": {},
   "outputs": [
    {
     "name": "stdout",
     "output_type": "stream",
     "text": [
      "1.ay   28444724\n",
      "2.ay   27206595\n",
      "3.ay   34091293\n",
      "4.ay   33562056\n",
      "5.ay   39051229\n",
      "6.ay   37898571\n"
     ]
    }
   ],
   "source": [
    "for i in range(1,7):\n",
    "    a=my_data[my_data[:,1] ==i,8]\n",
    "    print('{}.ay   {}'.format(i,a.sum()))\n",
    "    #f\"{}.ay  {}\",i,a,sm()"
   ]
  },
  {
   "cell_type": "markdown",
   "id": "392dff2c",
   "metadata": {},
   "source": [
    "# Tips by location"
   ]
  },
  {
   "cell_type": "code",
   "execution_count": 33,
   "id": "5625932a",
   "metadata": {},
   "outputs": [
    {
     "name": "stdout",
     "output_type": "stream",
     "text": [
      "1.lokasyon   47780   126097\n",
      "2.lokasyon   79177   183876\n",
      "3.lokasyon   91054   157528\n",
      "4.lokasyon   254339   539439\n",
      "5.lokasyon   971   2091\n",
      "6.lokasyon   18571   65701\n"
     ]
    },
    {
     "data": {
      "text/plain": [
       "array([11,  8,  0, ...,  5,  8,  0])"
      ]
     },
     "execution_count": 33,
     "metadata": {},
     "output_type": "execute_result"
    }
   ],
   "source": [
    "for i in range(1,7):\n",
    "    a=my_data[my_data[:,6] ==i,12]\n",
    "    b=my_data[my_data[:,6] ==i,7]\n",
    "    print('{}.lokasyon   {}   {}'.format(i,a.sum(),b.sum()))\n",
    "my_data[:,12]"
   ]
  },
  {
   "cell_type": "code",
   "execution_count": null,
   "id": "c9db5ad2",
   "metadata": {},
   "outputs": [],
   "source": []
  }
 ],
 "metadata": {
  "kernelspec": {
   "display_name": "Python 3",
   "language": "python",
   "name": "python3"
  },
  "language_info": {
   "codemirror_mode": {
    "name": "ipython",
    "version": 3
   },
   "file_extension": ".py",
   "mimetype": "text/x-python",
   "name": "python",
   "nbconvert_exporter": "python",
   "pygments_lexer": "ipython3",
   "version": "3.8.8"
  }
 },
 "nbformat": 4,
 "nbformat_minor": 5
}
